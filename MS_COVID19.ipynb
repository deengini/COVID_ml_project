{
  "nbformat": 4,
  "nbformat_minor": 0,
  "metadata": {
    "colab": {
      "provenance": [],
      "collapsed_sections": [],
      "authorship_tag": "ABX9TyNLasy6pyCpgG7HwEqB2h9q",
      "include_colab_link": true
    },
    "kernelspec": {
      "name": "python3",
      "display_name": "Python 3"
    },
    "language_info": {
      "name": "python"
    }
  },
  "cells": [
    {
      "cell_type": "markdown",
      "metadata": {
        "id": "view-in-github",
        "colab_type": "text"
      },
      "source": [
        "<a href=\"https://colab.research.google.com/github/dlesky/deep-learning-practice/blob/main/MS_COVID19.ipynb\" target=\"_parent\"><img src=\"https://colab.research.google.com/assets/colab-badge.svg\" alt=\"Open In Colab\"/></a>"
      ]
    },
    {
      "cell_type": "code",
      "execution_count": null,
      "metadata": {
        "id": "OLz3NozZjLC6"
      },
      "outputs": [],
      "source": [
        "#My attempt to create a deep learning model that predicts COVID PCR status based on salivary mass spec data\n",
        "#https://www.kaggle.com/datasets/kerneler/saliva-testing-dataset"
      ]
    },
    {
      "cell_type": "code",
      "source": [
        "#see tensorflow documentation: https://www.tensorflow.org/tutorials/load_data/csv\n",
        "\n",
        "import pandas as pd\n",
        "import numpy as np\n",
        "import tensorflow as tf\n",
        "from tensorflow import keras\n",
        "from tensorflow.keras.layers import Dense, Activation\n",
        "\n",
        "# Make numpy values easier to read.\n",
        "np.set_printoptions(precision=3, suppress=True)\n"
      ],
      "metadata": {
        "id": "fe1yZHcVjg9g"
      },
      "execution_count": null,
      "outputs": []
    },
    {
      "cell_type": "code",
      "source": [
        "#load csvs into pandas DataFrames\n",
        "train_dataset = pd.read_csv(\"COVID-19_MS_dataset_train.csv\")  #appears to have 2405 persons and 2715 features\n",
        "test_dataset = pd.read_csv(\"COVID-19_MS_dataset_test.csv\")  #appears to have 1877 persons and 2715 features \n",
        "print(f\"train dataset has shape: {train_dataset.shape}\")\n",
        "print(f\"test dataset has shape: {test_dataset.shape}\")"
      ],
      "metadata": {
        "colab": {
          "base_uri": "https://localhost:8080/"
        },
        "id": "09TI6z9ckOl-",
        "outputId": "043d0b12-6ade-486f-b6e6-eb7c2f8c9330"
      },
      "execution_count": null,
      "outputs": [
        {
          "output_type": "stream",
          "name": "stdout",
          "text": [
            "train dataset has shape: (2405, 2718)\n",
            "test dataset has shape: (1877, 2718)\n"
          ]
        }
      ]
    },
    {
      "cell_type": "code",
      "source": [
        "#let's glance at the data format: labels will be under PCR_result, feature data will be (3:)\n",
        "train_dataset"
      ],
      "metadata": {
        "colab": {
          "base_uri": "https://localhost:8080/",
          "height": 488
        },
        "id": "eupzb6bHjA90",
        "outputId": "56dda016-9c70-477b-ae8e-a297067fc73d"
      },
      "execution_count": null,
      "outputs": [
        {
          "output_type": "execute_result",
          "data": {
            "text/plain": [
              "      Person_ID Sample_ID PCR_result  244.17  244.38  245.48  246.44  246.69  \\\n",
              "0             1        N6        pos     0.0     0.0     0.0     0.0     0.0   \n",
              "1             2        N6        pos     0.0     0.0     0.0     0.0     0.0   \n",
              "2             3        N6        pos     0.0     0.0     0.0     0.0     0.0   \n",
              "3             4        N6        pos     0.0     0.0     0.0     0.0     0.0   \n",
              "4             5        N6        pos     0.0     0.0     0.0     0.0     0.0   \n",
              "...         ...       ...        ...     ...     ...     ...     ...     ...   \n",
              "2400       3253      N172        neg     0.0     0.0     0.0     0.0     0.0   \n",
              "2401       3254      N172        neg     0.0     0.0     0.0     0.0     0.0   \n",
              "2402       3255      N172        neg     0.0     0.0     0.0     0.0     0.0   \n",
              "2403       3256      N172        neg     0.0     0.0     0.0     0.0     0.0   \n",
              "2404       3257      N172        neg     0.0     0.0     0.0     0.0     0.0   \n",
              "\n",
              "      247.36  247.99  ...  15406.61  15411.6  15417.97  15468.66  16531.56  \\\n",
              "0        0.0     0.0  ...       0.0      0.0       0.0       0.0       0.0   \n",
              "1        0.0     0.0  ...       0.0      0.0       0.0       0.0       0.0   \n",
              "2        0.0     0.0  ...       0.0      0.0       0.0       0.0       0.0   \n",
              "3        0.0     0.0  ...       0.0      0.0       0.0       0.0       0.0   \n",
              "4        0.0     0.0  ...       0.0      0.0       0.0       0.0       0.0   \n",
              "...      ...     ...  ...       ...      ...       ...       ...       ...   \n",
              "2400     0.0     0.0  ...       0.0      0.0       0.0       0.0       0.0   \n",
              "2401     0.0     0.0  ...       0.0      0.0       0.0       0.0       0.0   \n",
              "2402     0.0     0.0  ...       0.0      0.0       0.0       0.0       0.0   \n",
              "2403     0.0     0.0  ...       0.0      0.0       0.0       0.0       0.0   \n",
              "2404     0.0     0.0  ...       0.0      0.0       0.0       0.0       0.0   \n",
              "\n",
              "      16612.52  16810.09  17207.81  18738.92  20265.36  \n",
              "0          0.0       0.0       0.0       0.0       0.0  \n",
              "1          0.0       0.0       0.0       0.0       0.0  \n",
              "2          0.0       0.0       0.0       0.0       0.0  \n",
              "3          0.0       0.0       0.0       0.0       0.0  \n",
              "4          0.0       0.0       0.0       0.0       0.0  \n",
              "...        ...       ...       ...       ...       ...  \n",
              "2400       0.0       0.0       0.0       0.0       0.0  \n",
              "2401       0.0       0.0       0.0       0.0       0.0  \n",
              "2402       0.0       0.0       0.0       0.0       0.0  \n",
              "2403       0.0       0.0       0.0       0.0       0.0  \n",
              "2404       0.0       0.0       0.0       0.0       0.0  \n",
              "\n",
              "[2405 rows x 2718 columns]"
            ],
            "text/html": [
              "\n",
              "  <div id=\"df-69b2e07c-643e-4864-ad5c-c9ddfd98c5e3\">\n",
              "    <div class=\"colab-df-container\">\n",
              "      <div>\n",
              "<style scoped>\n",
              "    .dataframe tbody tr th:only-of-type {\n",
              "        vertical-align: middle;\n",
              "    }\n",
              "\n",
              "    .dataframe tbody tr th {\n",
              "        vertical-align: top;\n",
              "    }\n",
              "\n",
              "    .dataframe thead th {\n",
              "        text-align: right;\n",
              "    }\n",
              "</style>\n",
              "<table border=\"1\" class=\"dataframe\">\n",
              "  <thead>\n",
              "    <tr style=\"text-align: right;\">\n",
              "      <th></th>\n",
              "      <th>Person_ID</th>\n",
              "      <th>Sample_ID</th>\n",
              "      <th>PCR_result</th>\n",
              "      <th>244.17</th>\n",
              "      <th>244.38</th>\n",
              "      <th>245.48</th>\n",
              "      <th>246.44</th>\n",
              "      <th>246.69</th>\n",
              "      <th>247.36</th>\n",
              "      <th>247.99</th>\n",
              "      <th>...</th>\n",
              "      <th>15406.61</th>\n",
              "      <th>15411.6</th>\n",
              "      <th>15417.97</th>\n",
              "      <th>15468.66</th>\n",
              "      <th>16531.56</th>\n",
              "      <th>16612.52</th>\n",
              "      <th>16810.09</th>\n",
              "      <th>17207.81</th>\n",
              "      <th>18738.92</th>\n",
              "      <th>20265.36</th>\n",
              "    </tr>\n",
              "  </thead>\n",
              "  <tbody>\n",
              "    <tr>\n",
              "      <th>0</th>\n",
              "      <td>1</td>\n",
              "      <td>N6</td>\n",
              "      <td>pos</td>\n",
              "      <td>0.0</td>\n",
              "      <td>0.0</td>\n",
              "      <td>0.0</td>\n",
              "      <td>0.0</td>\n",
              "      <td>0.0</td>\n",
              "      <td>0.0</td>\n",
              "      <td>0.0</td>\n",
              "      <td>...</td>\n",
              "      <td>0.0</td>\n",
              "      <td>0.0</td>\n",
              "      <td>0.0</td>\n",
              "      <td>0.0</td>\n",
              "      <td>0.0</td>\n",
              "      <td>0.0</td>\n",
              "      <td>0.0</td>\n",
              "      <td>0.0</td>\n",
              "      <td>0.0</td>\n",
              "      <td>0.0</td>\n",
              "    </tr>\n",
              "    <tr>\n",
              "      <th>1</th>\n",
              "      <td>2</td>\n",
              "      <td>N6</td>\n",
              "      <td>pos</td>\n",
              "      <td>0.0</td>\n",
              "      <td>0.0</td>\n",
              "      <td>0.0</td>\n",
              "      <td>0.0</td>\n",
              "      <td>0.0</td>\n",
              "      <td>0.0</td>\n",
              "      <td>0.0</td>\n",
              "      <td>...</td>\n",
              "      <td>0.0</td>\n",
              "      <td>0.0</td>\n",
              "      <td>0.0</td>\n",
              "      <td>0.0</td>\n",
              "      <td>0.0</td>\n",
              "      <td>0.0</td>\n",
              "      <td>0.0</td>\n",
              "      <td>0.0</td>\n",
              "      <td>0.0</td>\n",
              "      <td>0.0</td>\n",
              "    </tr>\n",
              "    <tr>\n",
              "      <th>2</th>\n",
              "      <td>3</td>\n",
              "      <td>N6</td>\n",
              "      <td>pos</td>\n",
              "      <td>0.0</td>\n",
              "      <td>0.0</td>\n",
              "      <td>0.0</td>\n",
              "      <td>0.0</td>\n",
              "      <td>0.0</td>\n",
              "      <td>0.0</td>\n",
              "      <td>0.0</td>\n",
              "      <td>...</td>\n",
              "      <td>0.0</td>\n",
              "      <td>0.0</td>\n",
              "      <td>0.0</td>\n",
              "      <td>0.0</td>\n",
              "      <td>0.0</td>\n",
              "      <td>0.0</td>\n",
              "      <td>0.0</td>\n",
              "      <td>0.0</td>\n",
              "      <td>0.0</td>\n",
              "      <td>0.0</td>\n",
              "    </tr>\n",
              "    <tr>\n",
              "      <th>3</th>\n",
              "      <td>4</td>\n",
              "      <td>N6</td>\n",
              "      <td>pos</td>\n",
              "      <td>0.0</td>\n",
              "      <td>0.0</td>\n",
              "      <td>0.0</td>\n",
              "      <td>0.0</td>\n",
              "      <td>0.0</td>\n",
              "      <td>0.0</td>\n",
              "      <td>0.0</td>\n",
              "      <td>...</td>\n",
              "      <td>0.0</td>\n",
              "      <td>0.0</td>\n",
              "      <td>0.0</td>\n",
              "      <td>0.0</td>\n",
              "      <td>0.0</td>\n",
              "      <td>0.0</td>\n",
              "      <td>0.0</td>\n",
              "      <td>0.0</td>\n",
              "      <td>0.0</td>\n",
              "      <td>0.0</td>\n",
              "    </tr>\n",
              "    <tr>\n",
              "      <th>4</th>\n",
              "      <td>5</td>\n",
              "      <td>N6</td>\n",
              "      <td>pos</td>\n",
              "      <td>0.0</td>\n",
              "      <td>0.0</td>\n",
              "      <td>0.0</td>\n",
              "      <td>0.0</td>\n",
              "      <td>0.0</td>\n",
              "      <td>0.0</td>\n",
              "      <td>0.0</td>\n",
              "      <td>...</td>\n",
              "      <td>0.0</td>\n",
              "      <td>0.0</td>\n",
              "      <td>0.0</td>\n",
              "      <td>0.0</td>\n",
              "      <td>0.0</td>\n",
              "      <td>0.0</td>\n",
              "      <td>0.0</td>\n",
              "      <td>0.0</td>\n",
              "      <td>0.0</td>\n",
              "      <td>0.0</td>\n",
              "    </tr>\n",
              "    <tr>\n",
              "      <th>...</th>\n",
              "      <td>...</td>\n",
              "      <td>...</td>\n",
              "      <td>...</td>\n",
              "      <td>...</td>\n",
              "      <td>...</td>\n",
              "      <td>...</td>\n",
              "      <td>...</td>\n",
              "      <td>...</td>\n",
              "      <td>...</td>\n",
              "      <td>...</td>\n",
              "      <td>...</td>\n",
              "      <td>...</td>\n",
              "      <td>...</td>\n",
              "      <td>...</td>\n",
              "      <td>...</td>\n",
              "      <td>...</td>\n",
              "      <td>...</td>\n",
              "      <td>...</td>\n",
              "      <td>...</td>\n",
              "      <td>...</td>\n",
              "      <td>...</td>\n",
              "    </tr>\n",
              "    <tr>\n",
              "      <th>2400</th>\n",
              "      <td>3253</td>\n",
              "      <td>N172</td>\n",
              "      <td>neg</td>\n",
              "      <td>0.0</td>\n",
              "      <td>0.0</td>\n",
              "      <td>0.0</td>\n",
              "      <td>0.0</td>\n",
              "      <td>0.0</td>\n",
              "      <td>0.0</td>\n",
              "      <td>0.0</td>\n",
              "      <td>...</td>\n",
              "      <td>0.0</td>\n",
              "      <td>0.0</td>\n",
              "      <td>0.0</td>\n",
              "      <td>0.0</td>\n",
              "      <td>0.0</td>\n",
              "      <td>0.0</td>\n",
              "      <td>0.0</td>\n",
              "      <td>0.0</td>\n",
              "      <td>0.0</td>\n",
              "      <td>0.0</td>\n",
              "    </tr>\n",
              "    <tr>\n",
              "      <th>2401</th>\n",
              "      <td>3254</td>\n",
              "      <td>N172</td>\n",
              "      <td>neg</td>\n",
              "      <td>0.0</td>\n",
              "      <td>0.0</td>\n",
              "      <td>0.0</td>\n",
              "      <td>0.0</td>\n",
              "      <td>0.0</td>\n",
              "      <td>0.0</td>\n",
              "      <td>0.0</td>\n",
              "      <td>...</td>\n",
              "      <td>0.0</td>\n",
              "      <td>0.0</td>\n",
              "      <td>0.0</td>\n",
              "      <td>0.0</td>\n",
              "      <td>0.0</td>\n",
              "      <td>0.0</td>\n",
              "      <td>0.0</td>\n",
              "      <td>0.0</td>\n",
              "      <td>0.0</td>\n",
              "      <td>0.0</td>\n",
              "    </tr>\n",
              "    <tr>\n",
              "      <th>2402</th>\n",
              "      <td>3255</td>\n",
              "      <td>N172</td>\n",
              "      <td>neg</td>\n",
              "      <td>0.0</td>\n",
              "      <td>0.0</td>\n",
              "      <td>0.0</td>\n",
              "      <td>0.0</td>\n",
              "      <td>0.0</td>\n",
              "      <td>0.0</td>\n",
              "      <td>0.0</td>\n",
              "      <td>...</td>\n",
              "      <td>0.0</td>\n",
              "      <td>0.0</td>\n",
              "      <td>0.0</td>\n",
              "      <td>0.0</td>\n",
              "      <td>0.0</td>\n",
              "      <td>0.0</td>\n",
              "      <td>0.0</td>\n",
              "      <td>0.0</td>\n",
              "      <td>0.0</td>\n",
              "      <td>0.0</td>\n",
              "    </tr>\n",
              "    <tr>\n",
              "      <th>2403</th>\n",
              "      <td>3256</td>\n",
              "      <td>N172</td>\n",
              "      <td>neg</td>\n",
              "      <td>0.0</td>\n",
              "      <td>0.0</td>\n",
              "      <td>0.0</td>\n",
              "      <td>0.0</td>\n",
              "      <td>0.0</td>\n",
              "      <td>0.0</td>\n",
              "      <td>0.0</td>\n",
              "      <td>...</td>\n",
              "      <td>0.0</td>\n",
              "      <td>0.0</td>\n",
              "      <td>0.0</td>\n",
              "      <td>0.0</td>\n",
              "      <td>0.0</td>\n",
              "      <td>0.0</td>\n",
              "      <td>0.0</td>\n",
              "      <td>0.0</td>\n",
              "      <td>0.0</td>\n",
              "      <td>0.0</td>\n",
              "    </tr>\n",
              "    <tr>\n",
              "      <th>2404</th>\n",
              "      <td>3257</td>\n",
              "      <td>N172</td>\n",
              "      <td>neg</td>\n",
              "      <td>0.0</td>\n",
              "      <td>0.0</td>\n",
              "      <td>0.0</td>\n",
              "      <td>0.0</td>\n",
              "      <td>0.0</td>\n",
              "      <td>0.0</td>\n",
              "      <td>0.0</td>\n",
              "      <td>...</td>\n",
              "      <td>0.0</td>\n",
              "      <td>0.0</td>\n",
              "      <td>0.0</td>\n",
              "      <td>0.0</td>\n",
              "      <td>0.0</td>\n",
              "      <td>0.0</td>\n",
              "      <td>0.0</td>\n",
              "      <td>0.0</td>\n",
              "      <td>0.0</td>\n",
              "      <td>0.0</td>\n",
              "    </tr>\n",
              "  </tbody>\n",
              "</table>\n",
              "<p>2405 rows × 2718 columns</p>\n",
              "</div>\n",
              "      <button class=\"colab-df-convert\" onclick=\"convertToInteractive('df-69b2e07c-643e-4864-ad5c-c9ddfd98c5e3')\"\n",
              "              title=\"Convert this dataframe to an interactive table.\"\n",
              "              style=\"display:none;\">\n",
              "        \n",
              "  <svg xmlns=\"http://www.w3.org/2000/svg\" height=\"24px\"viewBox=\"0 0 24 24\"\n",
              "       width=\"24px\">\n",
              "    <path d=\"M0 0h24v24H0V0z\" fill=\"none\"/>\n",
              "    <path d=\"M18.56 5.44l.94 2.06.94-2.06 2.06-.94-2.06-.94-.94-2.06-.94 2.06-2.06.94zm-11 1L8.5 8.5l.94-2.06 2.06-.94-2.06-.94L8.5 2.5l-.94 2.06-2.06.94zm10 10l.94 2.06.94-2.06 2.06-.94-2.06-.94-.94-2.06-.94 2.06-2.06.94z\"/><path d=\"M17.41 7.96l-1.37-1.37c-.4-.4-.92-.59-1.43-.59-.52 0-1.04.2-1.43.59L10.3 9.45l-7.72 7.72c-.78.78-.78 2.05 0 2.83L4 21.41c.39.39.9.59 1.41.59.51 0 1.02-.2 1.41-.59l7.78-7.78 2.81-2.81c.8-.78.8-2.07 0-2.86zM5.41 20L4 18.59l7.72-7.72 1.47 1.35L5.41 20z\"/>\n",
              "  </svg>\n",
              "      </button>\n",
              "      \n",
              "  <style>\n",
              "    .colab-df-container {\n",
              "      display:flex;\n",
              "      flex-wrap:wrap;\n",
              "      gap: 12px;\n",
              "    }\n",
              "\n",
              "    .colab-df-convert {\n",
              "      background-color: #E8F0FE;\n",
              "      border: none;\n",
              "      border-radius: 50%;\n",
              "      cursor: pointer;\n",
              "      display: none;\n",
              "      fill: #1967D2;\n",
              "      height: 32px;\n",
              "      padding: 0 0 0 0;\n",
              "      width: 32px;\n",
              "    }\n",
              "\n",
              "    .colab-df-convert:hover {\n",
              "      background-color: #E2EBFA;\n",
              "      box-shadow: 0px 1px 2px rgba(60, 64, 67, 0.3), 0px 1px 3px 1px rgba(60, 64, 67, 0.15);\n",
              "      fill: #174EA6;\n",
              "    }\n",
              "\n",
              "    [theme=dark] .colab-df-convert {\n",
              "      background-color: #3B4455;\n",
              "      fill: #D2E3FC;\n",
              "    }\n",
              "\n",
              "    [theme=dark] .colab-df-convert:hover {\n",
              "      background-color: #434B5C;\n",
              "      box-shadow: 0px 1px 3px 1px rgba(0, 0, 0, 0.15);\n",
              "      filter: drop-shadow(0px 1px 2px rgba(0, 0, 0, 0.3));\n",
              "      fill: #FFFFFF;\n",
              "    }\n",
              "  </style>\n",
              "\n",
              "      <script>\n",
              "        const buttonEl =\n",
              "          document.querySelector('#df-69b2e07c-643e-4864-ad5c-c9ddfd98c5e3 button.colab-df-convert');\n",
              "        buttonEl.style.display =\n",
              "          google.colab.kernel.accessAllowed ? 'block' : 'none';\n",
              "\n",
              "        async function convertToInteractive(key) {\n",
              "          const element = document.querySelector('#df-69b2e07c-643e-4864-ad5c-c9ddfd98c5e3');\n",
              "          const dataTable =\n",
              "            await google.colab.kernel.invokeFunction('convertToInteractive',\n",
              "                                                     [key], {});\n",
              "          if (!dataTable) return;\n",
              "\n",
              "          const docLinkHtml = 'Like what you see? Visit the ' +\n",
              "            '<a target=\"_blank\" href=https://colab.research.google.com/notebooks/data_table.ipynb>data table notebook</a>'\n",
              "            + ' to learn more about interactive tables.';\n",
              "          element.innerHTML = '';\n",
              "          dataTable['output_type'] = 'display_data';\n",
              "          await google.colab.output.renderOutput(dataTable, element);\n",
              "          const docLink = document.createElement('div');\n",
              "          docLink.innerHTML = docLinkHtml;\n",
              "          element.appendChild(docLink);\n",
              "        }\n",
              "      </script>\n",
              "    </div>\n",
              "  </div>\n",
              "  "
            ]
          },
          "metadata": {},
          "execution_count": 4
        }
      ]
    },
    {
      "cell_type": "code",
      "source": [
        "#let's randomize the rows in the training and test datasets\n",
        "train_dataset = train_dataset.sample(frac=1).reset_index(drop=True)\n",
        "test_dataset = test_dataset.sample(frac=1).reset_index(drop=True)"
      ],
      "metadata": {
        "id": "iEicqwooyuEo"
      },
      "execution_count": null,
      "outputs": []
    },
    {
      "cell_type": "code",
      "source": [
        "#let's make sure the columns are the same in both data-sets\n",
        "assert(np.all((train_dataset.columns == test_dataset.columns)==True))"
      ],
      "metadata": {
        "id": "VcIsHDYena3M"
      },
      "execution_count": null,
      "outputs": []
    },
    {
      "cell_type": "code",
      "source": [
        "#define training and dev sets (~80/20%); test set is already separate \n",
        "y_train = np.transpose(pd.Series.to_numpy(train_dataset.iloc[0:2000,2]))\n",
        "y_dev = np.transpose(pd.Series.to_numpy(train_dataset.iloc[2000:,2]))\n",
        "y_test = np.transpose(pd.Series.to_numpy(test_dataset.iloc[:,2]))\n",
        "X_train = pd.DataFrame.to_numpy(train_dataset.iloc[0:2000,3:])\n",
        "X_dev = pd.DataFrame.to_numpy(train_dataset.iloc[2000:,3:])\n",
        "X_test = pd.DataFrame.to_numpy(test_dataset.iloc[:,3:])"
      ],
      "metadata": {
        "id": "XDQ9dn6Sovwr"
      },
      "execution_count": null,
      "outputs": []
    },
    {
      "cell_type": "code",
      "source": [
        "#convert y_training labels to 0s and 1s \n",
        "class_dict = {'pos':1, 'neg': 0}\n",
        "y_train_digit = np.zeros(len(y_train))\n",
        "y_dev_digit = np.zeros(len(y_dev))\n",
        "for i in np.arange(0,len(y_train)):\n",
        "  y_train_digit[i] = class_dict[y_train[i]]\n",
        "for i in np.arange(0,len(y_dev)):\n",
        "  y_dev_digit[i] = class_dict[y_dev[i]]"
      ],
      "metadata": {
        "id": "0tS8ZZVs1yuK"
      },
      "execution_count": 32,
      "outputs": []
    },
    {
      "cell_type": "code",
      "source": [
        "#will normalize MS feature data from (0,1) by dividing by maximum, which is found in X_train (670.6701615)\n",
        "import matplotlib.pyplot as plt\n",
        "X_train_norm = X_train/np.amax(X_train)\n",
        "X_dev_norm = X_dev/np.amax(X_train)\n",
        "X_test_norm = X_test/np.amax(X_train)\n",
        "print(f\"max feature in X_train_norm: {np.amax(X_train_norm)}\") \n",
        "print(f\"max feature in X_dev_norm: {np.amax(X_dev_norm)}\") \n",
        "print(f\"max feature in X_test_norm: {np.amax(X_test_norm)}\")\n",
        "\n",
        "#normalization seems to have worked!"
      ],
      "metadata": {
        "colab": {
          "base_uri": "https://localhost:8080/"
        },
        "id": "c-f-l1CCfkdf",
        "outputId": "2664433c-97fe-41d1-af01-57f953a608b5"
      },
      "execution_count": 33,
      "outputs": [
        {
          "output_type": "stream",
          "name": "stdout",
          "text": [
            "max feature in X_train_norm: 1.0\n",
            "max feature in X_train_norm: 0.8963377661762877\n",
            "max feature in X_test_norm: 0.9608421738321214\n"
          ]
        }
      ]
    },
    {
      "cell_type": "code",
      "source": [
        "#picking a very simple model to start with \n",
        "\n",
        "model_basic = keras.Sequential (\n",
        "    [\n",
        "    Dense(100, \"relu\"),\n",
        "    Dense(100, \"relu\"),\n",
        "    Dense(1, \"sigmoid\")\n",
        "    ]\n",
        ")"
      ],
      "metadata": {
        "id": "mk8aUEmg9mJp"
      },
      "execution_count": null,
      "outputs": []
    },
    {
      "cell_type": "code",
      "source": [
        "model_basic.compile(loss = \"binary_crossentropy\", optimizer = tf.keras.optimizers.Adam(), metrics= [\"accuracy\"])"
      ],
      "metadata": {
        "id": "xuTZmcSdC3Qc"
      },
      "execution_count": null,
      "outputs": []
    },
    {
      "cell_type": "code",
      "source": [
        "history_model_basic = model_basic.fit(X_train_norm, y_train_digit, epochs = 30)"
      ],
      "metadata": {
        "id": "okck8aJQGqpl"
      },
      "execution_count": null,
      "outputs": []
    },
    {
      "cell_type": "code",
      "source": [
        "y_dev_pred = model_basic.predict(X_dev_norm)\n",
        "y_train_pred = model_basic.predict(X_train_norm)"
      ],
      "metadata": {
        "id": "m2LyF1O144lD"
      },
      "execution_count": null,
      "outputs": []
    },
    {
      "cell_type": "code",
      "source": [
        "import matplotlib.pyplot as plt\n",
        "\n",
        "\n",
        "def plot_loss_curves(history):\n",
        "  loss = history.history['loss']\n",
        "  #val_loss = history.history[\"val_loss\"]\n",
        "  accuracy = history.history[\"accuracy\"]\n",
        "  #val_accuracy = history.history[\"val_accuracy\"]\n",
        "  epochs = range(len(history.history[\"loss\"]))\n",
        "\n",
        "  plt.plot(epochs, loss, label = \"training_loss\")\n",
        "  #plt.plot(epochs, val_loss, label = \"val_loss\")\n",
        "  plt.title('Loss')\n",
        "  plt.xlabel('Epochs')\n",
        "  plt.legend()\n",
        "\n",
        "  plt.figure()\n",
        "  plt.plot(epochs, accuracy, label = \"training_ accuracy\")\n",
        "  #plt.plot(epochs, val_accuracy, label = \"val_accuracy\")\n",
        "  plt.title('Accuracy')\n",
        "  plt.xlabel('Epochs')\n",
        "  plt.legend()\n"
      ],
      "metadata": {
        "id": "-GHFspAYM0h3"
      },
      "execution_count": null,
      "outputs": []
    },
    {
      "cell_type": "code",
      "source": [
        "plot_loss_curves(history_model_basic)"
      ],
      "metadata": {
        "colab": {
          "base_uri": "https://localhost:8080/",
          "height": 573
        },
        "id": "MS_8TxTafKoB",
        "outputId": "09533dee-cfc8-42d3-9dfb-b75f64150566"
      },
      "execution_count": null,
      "outputs": [
        {
          "output_type": "display_data",
          "data": {
            "text/plain": [
              "<Figure size 432x288 with 1 Axes>"
            ],
            "image/png": "[encoded data removed]"
          },
          "metadata": {
            "needs_background": "light"
          }
        },
        {
          "output_type": "display_data",
          "data": {
            "text/plain": [
              "<Figure size 432x288 with 1 Axes>"
            ],
            "image/png": "[encoded data removed]"
          },
          "metadata": {
            "needs_background": "light"
          }
        }
      ]
    },
    {
      "cell_type": "code",
      "source": [
        "model_basic.evaluate(X_dev_norm, y_dev_digit)\n"
      ],
      "metadata": {
        "colab": {
          "base_uri": "https://localhost:8080/"
        },
        "id": "O-rsDtHufQqC",
        "outputId": "0db3d963-8e37-45d3-bd79-a80df03a549d"
      },
      "execution_count": 34,
      "outputs": [
        {
          "output_type": "stream",
          "name": "stdout",
          "text": [
            "13/13 [==============================] - 0s 4ms/step - loss: 0.1325 - accuracy: 0.9753\n"
          ]
        },
        {
          "output_type": "execute_result",
          "data": {
            "text/plain": [
              "[0.1324617713689804, 0.9753086566925049]"
            ]
          },
          "metadata": {},
          "execution_count": 34
        }
      ]
    },
    {
      "cell_type": "code",
      "source": [
        "#97% on first try. that seemed too easy... maybe a mistake? let's see if we can get the test data for validation "
      ],
      "metadata": {
        "id": "sN9jVYuQi8QH"
      },
      "execution_count": null,
      "outputs": []
    }
  ]
}